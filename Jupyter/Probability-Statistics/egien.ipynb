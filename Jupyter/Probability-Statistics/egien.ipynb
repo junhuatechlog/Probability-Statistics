{
 "cells": [
  {
   "cell_type": "code",
   "execution_count": 1,
   "id": "6542cac0-c52e-4822-ac11-7359b87cbf24",
   "metadata": {},
   "outputs": [],
   "source": [
    "import numpy as np\n"
   ]
  },
  {
   "cell_type": "code",
   "execution_count": 2,
   "id": "3da4cdd7-f28f-46d8-8f21-701f1820524e",
   "metadata": {},
   "outputs": [],
   "source": [
    "a = np.array([[3, 1], [2, 4]])"
   ]
  },
  {
   "cell_type": "code",
   "execution_count": 3,
   "id": "9c2314a6-1f79-4afd-865e-a8f6a8b8689d",
   "metadata": {},
   "outputs": [],
   "source": [
    "ev = np.linalg.eig(a)"
   ]
  },
  {
   "cell_type": "code",
   "execution_count": 4,
   "id": "5ff78738-3450-4e98-a2c1-7b34563f6eb8",
   "metadata": {},
   "outputs": [
    {
     "data": {
      "text/plain": [
       "EigResult(eigenvalues=array([2., 5.]), eigenvectors=array([[-0.70710678, -0.4472136 ],\n",
       "       [ 0.70710678, -0.89442719]]))"
      ]
     },
     "execution_count": 4,
     "metadata": {},
     "output_type": "execute_result"
    }
   ],
   "source": [
    "ev"
   ]
  },
  {
   "cell_type": "code",
   "execution_count": null,
   "id": "ef7a54e2-df2b-4aa3-89ed-dba47d291bee",
   "metadata": {},
   "outputs": [],
   "source": []
  }
 ],
 "metadata": {
  "kernelspec": {
   "display_name": "Python 3 (ipykernel)",
   "language": "python",
   "name": "python3"
  },
  "language_info": {
   "codemirror_mode": {
    "name": "ipython",
    "version": 3
   },
   "file_extension": ".py",
   "mimetype": "text/x-python",
   "name": "python",
   "nbconvert_exporter": "python",
   "pygments_lexer": "ipython3",
   "version": "3.11.7"
  }
 },
 "nbformat": 4,
 "nbformat_minor": 5
}
